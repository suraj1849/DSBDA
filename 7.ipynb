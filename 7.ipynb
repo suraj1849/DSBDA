{
 "cells": [
  {
   "cell_type": "code",
   "execution_count": 2,
   "id": "e6739978",
   "metadata": {},
   "outputs": [
    {
     "name": "stdout",
     "output_type": "stream",
     "text": [
      "Requirement already satisfied: nltk in c:\\users\\harshada\\documents\\anaconda\\lib\\site-packages (3.8.1)\n",
      "Requirement already satisfied: click in c:\\users\\harshada\\documents\\anaconda\\lib\\site-packages (from nltk) (8.0.4)\n",
      "Requirement already satisfied: joblib in c:\\users\\harshada\\documents\\anaconda\\lib\\site-packages (from nltk) (1.2.0)\n",
      "Requirement already satisfied: regex>=2021.8.3 in c:\\users\\harshada\\documents\\anaconda\\lib\\site-packages (from nltk) (2022.7.9)\n",
      "Requirement already satisfied: tqdm in c:\\users\\harshada\\documents\\anaconda\\lib\\site-packages (from nltk) (4.65.0)\n",
      "Requirement already satisfied: colorama in c:\\users\\harshada\\documents\\anaconda\\lib\\site-packages (from click->nltk) (0.4.6)\n"
     ]
    }
   ],
   "source": [
    "!pip install nltk"
   ]
  },
  {
   "cell_type": "code",
   "execution_count": 3,
   "id": "d4760a3b",
   "metadata": {},
   "outputs": [],
   "source": [
    "import nltk"
   ]
  },
  {
   "cell_type": "code",
   "execution_count": 7,
   "id": "b76c29f0",
   "metadata": {},
   "outputs": [],
   "source": [
    "document=\"The great walking fox passes, over the dog\"\n",
    "doc=document.lower()"
   ]
  },
  {
   "cell_type": "code",
   "execution_count": 8,
   "id": "3e83fb87",
   "metadata": {},
   "outputs": [
    {
     "name": "stdout",
     "output_type": "stream",
     "text": [
      "the great walking fox passes, over the dog\n"
     ]
    }
   ],
   "source": [
    "print(doc)"
   ]
  },
  {
   "cell_type": "code",
   "execution_count": 9,
   "id": "a062572f",
   "metadata": {},
   "outputs": [
    {
     "name": "stdout",
     "output_type": "stream",
     "text": [
      "!\"#$%&'()*+,-./:;<=>?@[\\]^_`{|}~\n"
     ]
    }
   ],
   "source": [
    "import string\n",
    "print(string.punctuation)"
   ]
  },
  {
   "cell_type": "code",
   "execution_count": 12,
   "id": "2f971e51",
   "metadata": {},
   "outputs": [
    {
     "name": "stdout",
     "output_type": "stream",
     "text": [
      "the great walking fox passes over the dog\n"
     ]
    }
   ],
   "source": [
    "doc1=\"\".join(char for char in doc if char not in string.punctuation)\n",
    "print(doc1)"
   ]
  },
  {
   "cell_type": "code",
   "execution_count": 14,
   "id": "fdcf013c",
   "metadata": {},
   "outputs": [
    {
     "name": "stdout",
     "output_type": "stream",
     "text": [
      "['the', 'great', 'walking', 'fox', 'passes', 'over', 'the', 'dog']\n"
     ]
    },
    {
     "name": "stderr",
     "output_type": "stream",
     "text": [
      "[nltk_data] Downloading package punkt to\n",
      "[nltk_data]     C:\\Users\\Harshada\\AppData\\Roaming\\nltk_data...\n",
      "[nltk_data]   Package punkt is already up-to-date!\n"
     ]
    }
   ],
   "source": [
    "#Tokenization\n",
    "from nltk.tokenize import word_tokenize\n",
    "nltk.download(\"punkt\")\n",
    "words=word_tokenize(doc1)\n",
    "print(words)"
   ]
  },
  {
   "cell_type": "code",
   "execution_count": 20,
   "id": "6f1fbac2",
   "metadata": {},
   "outputs": [
    {
     "name": "stdout",
     "output_type": "stream",
     "text": [
      "['i', 'me', 'my', 'myself', 'we', 'our', 'ours', 'ourselves', 'you', \"you're\", \"you've\", \"you'll\", \"you'd\", 'your', 'yours', 'yourself', 'yourselves', 'he', 'him', 'his', 'himself', 'she', \"she's\", 'her', 'hers', 'herself', 'it', \"it's\", 'its', 'itself', 'they', 'them', 'their', 'theirs', 'themselves', 'what', 'which', 'who', 'whom', 'this', 'that', \"that'll\", 'these', 'those', 'am', 'is', 'are', 'was', 'were', 'be', 'been', 'being', 'have', 'has', 'had', 'having', 'do', 'does', 'did', 'doing', 'a', 'an', 'the', 'and', 'but', 'if', 'or', 'because', 'as', 'until', 'while', 'of', 'at', 'by', 'for', 'with', 'about', 'against', 'between', 'into', 'through', 'during', 'before', 'after', 'above', 'below', 'to', 'from', 'up', 'down', 'in', 'out', 'on', 'off', 'over', 'under', 'again', 'further', 'then', 'once', 'here', 'there', 'when', 'where', 'why', 'how', 'all', 'any', 'both', 'each', 'few', 'more', 'most', 'other', 'some', 'such', 'no', 'nor', 'not', 'only', 'own', 'same', 'so', 'than', 'too', 'very', 's', 't', 'can', 'will', 'just', 'don', \"don't\", 'should', \"should've\", 'now', 'd', 'll', 'm', 'o', 're', 've', 'y', 'ain', 'aren', \"aren't\", 'couldn', \"couldn't\", 'didn', \"didn't\", 'doesn', \"doesn't\", 'hadn', \"hadn't\", 'hasn', \"hasn't\", 'haven', \"haven't\", 'isn', \"isn't\", 'ma', 'mightn', \"mightn't\", 'mustn', \"mustn't\", 'needn', \"needn't\", 'shan', \"shan't\", 'shouldn', \"shouldn't\", 'wasn', \"wasn't\", 'weren', \"weren't\", 'won', \"won't\", 'wouldn', \"wouldn't\"]\n"
     ]
    },
    {
     "name": "stderr",
     "output_type": "stream",
     "text": [
      "[nltk_data] Downloading package stopwords to\n",
      "[nltk_data]     C:\\Users\\Harshada\\AppData\\Roaming\\nltk_data...\n",
      "[nltk_data]   Package stopwords is already up-to-date!\n"
     ]
    }
   ],
   "source": [
    "#stopwords\n",
    "from nltk.corpus import stopwords\n",
    "nltk.download(\"stopwords\")\n",
    "stop_words=stopwords.words(\"english\")\n",
    "print(stop_words)"
   ]
  },
  {
   "cell_type": "code",
   "execution_count": 25,
   "id": "00e674ef",
   "metadata": {},
   "outputs": [
    {
     "name": "stdout",
     "output_type": "stream",
     "text": [
      "['great', 'walking', 'fox', 'passes', 'dog']\n"
     ]
    }
   ],
   "source": [
    "filter_words=[word for word in words if word not in stop_words]\n",
    "print(filter_words)"
   ]
  },
  {
   "cell_type": "code",
   "execution_count": 26,
   "id": "9152d646",
   "metadata": {},
   "outputs": [
    {
     "name": "stdout",
     "output_type": "stream",
     "text": [
      "[('great', 'JJ'), ('walking', 'VBG'), ('fox', 'JJ'), ('passes', 'NNS'), ('dog', 'NN')]\n"
     ]
    },
    {
     "name": "stderr",
     "output_type": "stream",
     "text": [
      "[nltk_data] Downloading package averaged_perceptron_tagger to\n",
      "[nltk_data]     C:\\Users\\Harshada\\AppData\\Roaming\\nltk_data...\n",
      "[nltk_data]   Package averaged_perceptron_tagger is already up-to-\n",
      "[nltk_data]       date!\n"
     ]
    }
   ],
   "source": [
    "#pos_tag\n",
    "from nltk import pos_tag\n",
    "nltk.download(\"averaged_perceptron_tagger\")\n",
    "w1=pos_tag(filter_words)\n",
    "print(w1)"
   ]
  },
  {
   "cell_type": "code",
   "execution_count": 29,
   "id": "358f6a99",
   "metadata": {},
   "outputs": [
    {
     "name": "stdout",
     "output_type": "stream",
     "text": [
      "['great', 'walk', 'fox', 'pass', 'dog']\n"
     ]
    },
    {
     "name": "stderr",
     "output_type": "stream",
     "text": [
      "[nltk_data] Downloading package wordnet to\n",
      "[nltk_data]     C:\\Users\\Harshada\\AppData\\Roaming\\nltk_data...\n",
      "[nltk_data]   Package wordnet is already up-to-date!\n"
     ]
    }
   ],
   "source": [
    "#stemmimg and lemmatization\n",
    "from nltk.stem import PorterStemmer , WordNetLemmatizer\n",
    "nltk.download(\"wordnet\")\n",
    "porter=PorterStemmer()\n",
    "p_words=[porter.stem(word) for word in filter_words]\n",
    "print(p_words)"
   ]
  },
  {
   "cell_type": "code",
   "execution_count": 30,
   "id": "17409409",
   "metadata": {},
   "outputs": [
    {
     "name": "stdout",
     "output_type": "stream",
     "text": [
      "['great', 'walking', 'fox', 'pass', 'dog']\n"
     ]
    }
   ],
   "source": [
    "lemmatizer=WordNetLemmatizer()\n",
    "l_words=[lemmatizer.lemmatize(word) for word in filter_words]\n",
    "print(l_words)"
   ]
  },
  {
   "cell_type": "code",
   "execution_count": 34,
   "id": "da997d36",
   "metadata": {},
   "outputs": [],
   "source": [
    "#tfidk\n",
    "from sklearn.feature_extraction.text import TfidfVectorizer"
   ]
  },
  {
   "cell_type": "code",
   "execution_count": 35,
   "id": "e186da3c",
   "metadata": {},
   "outputs": [],
   "source": [
    "vectorizer=TfidfVectorizer()"
   ]
  },
  {
   "cell_type": "code",
   "execution_count": 37,
   "id": "11f21090",
   "metadata": {},
   "outputs": [
    {
     "name": "stdout",
     "output_type": "stream",
     "text": [
      "[[0.         0.         1.        ]\n",
      " [0.70710678 0.70710678 0.        ]]\n",
      "['am' 'harshada' 'heloooooo']\n"
     ]
    }
   ],
   "source": [
    "d=[\"heloooooo\",\"I am harshada\"]\n",
    "\n",
    "tfidf_matrix=vectorizer.fit_transform(d)\n",
    "\n",
    "w2=vectorizer.get_feature_names_out()\n",
    "\n",
    "print(tfidf_matrix.toarray())\n",
    "print(w2)"
   ]
  },
  {
   "cell_type": "code",
   "execution_count": 2,
   "id": "111085cf",
   "metadata": {},
   "outputs": [
    {
     "name": "stdout",
     "output_type": "stream",
     "text": [
      "TF Matrix:\n",
      "[[0.   0.25 0.25 0.25 0.25]\n",
      " [0.5  0.5  0.   0.   0.  ]]\n",
      "\n",
      "IDF Matrix:\n",
      "[ 0.         -0.40546511  0.          0.          0.        ]\n"
     ]
    }
   ],
   "source": [
    "from sklearn.feature_extraction.text import CountVectorizer\n",
    "import numpy as np\n",
    "\n",
    "# Sample documents\n",
    "documents = [\"heloooooo this is harshada\", \"I am harshada\"]\n",
    "\n",
    "# Step 1: Compute TF (Term Frequency)\n",
    "# Using CountVectorizer to compute term frequency\n",
    "count_vectorizer = CountVectorizer()\n",
    "term_freq_matrix = count_vectorizer.fit_transform(documents)\n",
    "\n",
    "# Convert term frequency matrix to numpy array for easier manipulation\n",
    "term_freq_array = term_freq_matrix.toarray()\n",
    "\n",
    "# Calculate TF\n",
    "tf_matrix = term_freq_array / np.sum(term_freq_array, axis=1, keepdims=True)\n",
    "\n",
    "# Step 2: Compute IDF (Inverse Document Frequency)\n",
    "# Calculate document frequency (DF) for each term\n",
    "document_freq = np.sum(term_freq_array > 0, axis=0)\n",
    "\n",
    "# Calculate IDF\n",
    "num_documents = len(documents)\n",
    "idf_matrix = np.log(num_documents / (1 + document_freq))\n",
    "\n",
    "# Display TF and IDF matrices\n",
    "print(\"TF Matrix:\")\n",
    "print(tf_matrix)\n",
    "print(\"\\nIDF Matrix:\")\n",
    "print(idf_matrix)\n"
   ]
  },
  {
   "cell_type": "code",
   "execution_count": null,
   "id": "54253eba",
   "metadata": {},
   "outputs": [],
   "source": []
  }
 ],
 "metadata": {
  "kernelspec": {
   "display_name": "Python 3 (ipykernel)",
   "language": "python",
   "name": "python3"
  },
  "language_info": {
   "codemirror_mode": {
    "name": "ipython",
    "version": 3
   },
   "file_extension": ".py",
   "mimetype": "text/x-python",
   "name": "python",
   "nbconvert_exporter": "python",
   "pygments_lexer": "ipython3",
   "version": "3.11.5"
  }
 },
 "nbformat": 4,
 "nbformat_minor": 5
}
